{
 "cells": [
  {
   "cell_type": "markdown",
   "metadata": {},
   "source": [
    "# STA 208: Homework 5"
   ]
  },
  {
   "cell_type": "markdown",
   "metadata": {},
   "source": [
    "## Instructions\n",
    "\n",
    "We use a script that extracts your answers by looking for cells in between the cells containing the exercise statements (beginning with __Exercise X.X__).  So you \n",
    "\n",
    "- MUST add cells in between the exercise statements and add answers within them and\n",
    "- MUST NOT modify the existing cells, particularly not the problem statement\n",
    "\n",
    "To make markdown, please switch the cell type to markdown (from code) - you can hit 'm' when you are in command mode - and use the markdown language.  For a brief tutorial see: https://daringfireball.net/projects/markdown/syntax\n",
    "\n",
    "In the conceptual exercises you should provide an explanation, with math when necessary, for any answers.  When answering with math you should use basic LaTeX, as in \n",
    "$$E(Y|X=x) = \\int_{\\mathcal{Y}} f_{Y|X}(y|x) dy = \\int_{\\mathcal{Y}} \\frac{f_{Y,X}(y,x)}{f_{X}(x)} dy$$\n",
    "for displayed equations, and $R_{i,j} = 2^{-|i-j|}$ for inline equations.  (To see the contents of this cell in markdown, double click on it or hit Enter in escape mode.)  To see a list of latex math symbols see here: http://web.ift.uib.no/Teori/KURS/WRK/TeX/symALL.html\n",
    "\n",
    "When writing pseudocode, you should use enumerated lists, such as \n",
    "\n",
    "__Algorithm: Ordinary Least Squares Fit__\n",
    "(Input: X, y; \n",
    "Output: $\\beta$)\n",
    "1. Initialize the $p \\times p$ Gram matrix, $G \\gets 0$, and the vector $b \\gets 0$.\n",
    "2. For each sample, $x_i$:\n",
    " 1. $G \\gets G + x_i x_i^\\top$.\n",
    " 2. $b \\gets b + y_i x_i$\n",
    "3. Solve the linear system $G \\beta = b$ and return $\\beta$\n"
   ]
  },
  {
   "cell_type": "markdown",
   "metadata": {},
   "source": [
    "__Exercise 1__ Recall the adaboost algorithm for $y_i \\in \\{-1,1\\}$...\n",
    "\n",
    "1. Initialize the observed weights $w^{(1)}_i \\gets 1/n$, $t \\gets 1$.\n",
    "1. For $t = 1,\\ldots,T$\n",
    " 1. Get a classifier $f_t(x) \\in \\{-1,1\\}$\n",
    " 1. Get the weighted error: $\\epsilon_t = \\sum_{i=1}^n w_i^{(t)} 1\\{ f_t(x_i) \\ne y_i \\}$\n",
    " 1. Let $\\alpha_t \\gets \\log (\\epsilon_t / (1 - \\epsilon_t))$\n",
    " 1. $w^{(t+1)}_i \\gets w^{(t)}_i \\exp ( -y_i f_t(x_i) \\alpha_t )$ for all i.\n",
    " 1. Let $Z_t \\gets \\sum_{i=1}^n w^{(t)}_i$, and $w^{(t+1)}_i \\gets w_i^{(t+1)} / Z_t$ for all i.\n",
    "1. Output the classifier: $$\\hat y(x) = {\\rm sign}\\left( \\sum_{t=1}^T \\alpha_t f_t(x) \\right)$$\n",
    "\n",
    "We will demonstrate that the training error is bounded if each of these classifiers is a weak learner.  To this end, let $\\epsilon_t = \\frac 12 - \\gamma_t$.  \n",
    "If we can show that the training error is bounded by\n",
    "$$ \\prod_{t=1}^T \\sqrt{2 \\epsilon_t (1- \\epsilon_t)} $$ then\n",
    "we will see that the training error is bounded by\n",
    "$$ \\exp\\left( - 2 \\sum_{t=1}^T \\gamma_t^2 \\right) $$\n",
    "because $\\sqrt{2 \\epsilon_t(1 - \\epsilon_t)} \\le \\exp(2 \\gamma_t^2)$."
   ]
  },
  {
   "cell_type": "markdown",
   "metadata": {},
   "source": [
    "__Exercise 1.1__ Demonstrate that \n",
    "$$ w^{(T+1)}_i = \\frac 1n \\frac{\\exp(- y_i f(x_i))}{\\prod_{t=1}^T Z_t}$$\n",
    "where $f(x) = \\sum_{t=1}^T \\alpha_t f_t(x)$."
   ]
  },
  {
   "cell_type": "markdown",
   "metadata": {},
   "source": [
    "Denote $f^{(T)}(x) = \\sum_{t=1}^T \\alpha_t f_t(x)$.\n",
    "We can show $$ w^{(T+1)}_i = \\frac 1n \\frac{\\exp(- y_i f^{(T)}(x_i))}{\\prod_{t=1}^T Z_t}$$ by induction on $T$.\n",
    "\n",
    "For $T=1$, $w^{(1)}_i = \\frac 1n$ is true.\n",
    "Now, assuming that $$ w^{(T)}_i = \\frac 1n \\frac{\\exp(- y_i f^{(T-1)}(x_i))}{\\prod_{t=1}^{T-1} Z_t},$$\n",
    "we can get expression for $w^{(T+1)}_i$:\n",
    "$$\n",
    "w^{(T+1)}_i = w^{(T)}_i \\frac{\\exp(-y_i \\alpha_T f_T(x_i))}{Z_T} = \\frac 1n \\frac{\\exp(- y_i \\left[f^{(T-1)}(x_i) + \\alpha_T f_T(x_i)\\right])}{\\prod_{t=1}^{T} Z_t} = \\frac 1n \\frac{\\exp(- y_i f^{(T)}(x_i))}{\\prod_{t=1}^T Z_t}.\n",
    "$$"
   ]
  },
  {
   "cell_type": "markdown",
   "metadata": {},
   "source": [
    "__Exercise 1.2__ Using this, show that the training error, $\\frac 1n \\sum_{i=1}^n 1\\{ y_i \\ne \\hat y(x_i)\\}$ is bounded by $\\prod_{t=1}^T Z_t$.  Hint: use the fact that $1\\{ z < 0\\} \\le \\exp(-z)$."
   ]
  },
  {
   "cell_type": "markdown",
   "metadata": {},
   "source": [
    "Since $\\sum_i w^{(T+1)}_i = 1$,\n",
    "$$\n",
    "\\prod_{t=1}^T Z_t = \\sum_i \\frac 1n \\exp(- y_i f(x_i)) = \\sum_{y_i = \\hat y_i} \\frac{e^{-1}}{n} + \\sum_{y_i \\neq \\hat y_i} \\frac en \\geq \\sum_{y_i \\neq \\hat y_i} \\frac 1n = \\frac 1n \\sum_{i=1}^n 1\\{ y_i \\ne \\hat y(x_i)\\}.\n",
    "$$\n"
   ]
  },
  {
   "cell_type": "markdown",
   "metadata": {},
   "source": [
    "__Exercise 1.3__ Show that \n",
    "$$ Z_t = \\sqrt{2 \\epsilon_t (1 - \\epsilon_t)}.$$"
   ]
  },
  {
   "cell_type": "markdown",
   "metadata": {},
   "source": [
    "We take $\\alpha_n= \\frac{1}{2}\\log\\frac{1-\\epsilon_t}{\\epsilon_t}$. Notice that $\\epsilon_t$ is the sum of misclassified weights, and $1-\\epsilon_t$ is the sum of correctly classified weights.\n",
    "\n",
    "Then step D assigns $w_i^{(t+1)} \\leftarrow w_i^{(t)} \\sqrt{\\frac{\\epsilon_t}{1-\\epsilon_t}}$ if $x_i$ is correctly classified by $f_t(x_i)$, and $w_i^{(t+1)} \\leftarrow w_i^{(t)} \\sqrt{\\frac{1-\\epsilon_t}{\\epsilon_t}}$ if $x_i$ is misclassified by $f_t(x_i)$.\n",
    "\n",
    "For step E we take the sum of $w_i^{(t+1)}$:\n",
    "$$\n",
    "Z_{t} = \\sum_i w_i^{(t+1)} = \\sum_{f_t(x_i) = y_i} w_i^{(t)} \\sqrt{\\frac{\\epsilon_t}{1-\\epsilon_t}} + \\sum_{f_t(x_i) \\neq y_i} w_i^{(t)} \\sqrt{\\frac{1-\\epsilon_t}{\\epsilon_t}} =\n",
    "(1-\\epsilon_t) \\sqrt{\\frac{\\epsilon_t}{1-\\epsilon_t}} + \\epsilon_t \\sqrt{\\frac{1-\\epsilon_t}{\\epsilon_t}} = \n",
    "2\\sqrt{\\epsilon_t(1-\\epsilon_t)}\n",
    "$$\n",
    "\n",
    "After performing $w^{(t+1)}_i \\leftarrow w^{(t+1)}_i/Z_t$, we get the final expression for $w^{(t+1)}_i$:\n",
    "$$\n",
    "w^{(t+1)}_i = \\frac{w_i^{(t)}}{2(1-\\epsilon_t)}\\quad \\text{if}\\ x_i\\ \\text{is correctly classified},\n",
    "$$\n",
    "$$\n",
    "w^{(t+1)}_i = \\frac{w_i^{(t)}}{2\\epsilon_t}\\quad \\text{if}\\ x_i\\ \\text{is misclassified}.\n",
    "$$"
   ]
  },
  {
   "cell_type": "markdown",
   "metadata": {},
   "source": [
    "## Bank Dataset\n",
    "The following dataset can be found at <a href=\"https://archive.ics.uci.edu/ml/datasets/Bank+Marketing\">UCI ML repo</a>."
   ]
  },
  {
   "cell_type": "code",
   "execution_count": 1,
   "metadata": {},
   "outputs": [],
   "source": [
    "import pandas as pd\n",
    "import numpy as np"
   ]
  },
  {
   "cell_type": "code",
   "execution_count": 11,
   "metadata": {
    "collapsed": true
   },
   "outputs": [],
   "source": [
    "bank = pd.read_csv('bank/bank-full.csv',sep=\";\")"
   ]
  },
  {
   "cell_type": "code",
   "execution_count": 12,
   "metadata": {},
   "outputs": [
    {
     "data": {
      "text/html": [
       "<div>\n",
       "<table border=\"1\" class=\"dataframe\">\n",
       "  <thead>\n",
       "    <tr style=\"text-align: right;\">\n",
       "      <th></th>\n",
       "      <th>age</th>\n",
       "      <th>job</th>\n",
       "      <th>marital</th>\n",
       "      <th>education</th>\n",
       "      <th>default</th>\n",
       "      <th>balance</th>\n",
       "      <th>housing</th>\n",
       "      <th>loan</th>\n",
       "      <th>contact</th>\n",
       "      <th>day</th>\n",
       "      <th>month</th>\n",
       "      <th>duration</th>\n",
       "      <th>campaign</th>\n",
       "      <th>pdays</th>\n",
       "      <th>previous</th>\n",
       "      <th>poutcome</th>\n",
       "      <th>y</th>\n",
       "    </tr>\n",
       "  </thead>\n",
       "  <tbody>\n",
       "    <tr>\n",
       "      <th>0</th>\n",
       "      <td>58</td>\n",
       "      <td>management</td>\n",
       "      <td>married</td>\n",
       "      <td>tertiary</td>\n",
       "      <td>no</td>\n",
       "      <td>2143</td>\n",
       "      <td>yes</td>\n",
       "      <td>no</td>\n",
       "      <td>unknown</td>\n",
       "      <td>5</td>\n",
       "      <td>may</td>\n",
       "      <td>261</td>\n",
       "      <td>1</td>\n",
       "      <td>-1</td>\n",
       "      <td>0</td>\n",
       "      <td>unknown</td>\n",
       "      <td>no</td>\n",
       "    </tr>\n",
       "    <tr>\n",
       "      <th>1</th>\n",
       "      <td>44</td>\n",
       "      <td>technician</td>\n",
       "      <td>single</td>\n",
       "      <td>secondary</td>\n",
       "      <td>no</td>\n",
       "      <td>29</td>\n",
       "      <td>yes</td>\n",
       "      <td>no</td>\n",
       "      <td>unknown</td>\n",
       "      <td>5</td>\n",
       "      <td>may</td>\n",
       "      <td>151</td>\n",
       "      <td>1</td>\n",
       "      <td>-1</td>\n",
       "      <td>0</td>\n",
       "      <td>unknown</td>\n",
       "      <td>no</td>\n",
       "    </tr>\n",
       "    <tr>\n",
       "      <th>2</th>\n",
       "      <td>33</td>\n",
       "      <td>entrepreneur</td>\n",
       "      <td>married</td>\n",
       "      <td>secondary</td>\n",
       "      <td>no</td>\n",
       "      <td>2</td>\n",
       "      <td>yes</td>\n",
       "      <td>yes</td>\n",
       "      <td>unknown</td>\n",
       "      <td>5</td>\n",
       "      <td>may</td>\n",
       "      <td>76</td>\n",
       "      <td>1</td>\n",
       "      <td>-1</td>\n",
       "      <td>0</td>\n",
       "      <td>unknown</td>\n",
       "      <td>no</td>\n",
       "    </tr>\n",
       "    <tr>\n",
       "      <th>3</th>\n",
       "      <td>47</td>\n",
       "      <td>blue-collar</td>\n",
       "      <td>married</td>\n",
       "      <td>unknown</td>\n",
       "      <td>no</td>\n",
       "      <td>1506</td>\n",
       "      <td>yes</td>\n",
       "      <td>no</td>\n",
       "      <td>unknown</td>\n",
       "      <td>5</td>\n",
       "      <td>may</td>\n",
       "      <td>92</td>\n",
       "      <td>1</td>\n",
       "      <td>-1</td>\n",
       "      <td>0</td>\n",
       "      <td>unknown</td>\n",
       "      <td>no</td>\n",
       "    </tr>\n",
       "    <tr>\n",
       "      <th>4</th>\n",
       "      <td>33</td>\n",
       "      <td>unknown</td>\n",
       "      <td>single</td>\n",
       "      <td>unknown</td>\n",
       "      <td>no</td>\n",
       "      <td>1</td>\n",
       "      <td>no</td>\n",
       "      <td>no</td>\n",
       "      <td>unknown</td>\n",
       "      <td>5</td>\n",
       "      <td>may</td>\n",
       "      <td>198</td>\n",
       "      <td>1</td>\n",
       "      <td>-1</td>\n",
       "      <td>0</td>\n",
       "      <td>unknown</td>\n",
       "      <td>no</td>\n",
       "    </tr>\n",
       "  </tbody>\n",
       "</table>\n",
       "</div>"
      ],
      "text/plain": [
       "   age           job  marital  education default  balance housing loan  \\\n",
       "0   58    management  married   tertiary      no     2143     yes   no   \n",
       "1   44    technician   single  secondary      no       29     yes   no   \n",
       "2   33  entrepreneur  married  secondary      no        2     yes  yes   \n",
       "3   47   blue-collar  married    unknown      no     1506     yes   no   \n",
       "4   33       unknown   single    unknown      no        1      no   no   \n",
       "\n",
       "   contact  day month  duration  campaign  pdays  previous poutcome   y  \n",
       "0  unknown    5   may       261         1     -1         0  unknown  no  \n",
       "1  unknown    5   may       151         1     -1         0  unknown  no  \n",
       "2  unknown    5   may        76         1     -1         0  unknown  no  \n",
       "3  unknown    5   may        92         1     -1         0  unknown  no  \n",
       "4  unknown    5   may       198         1     -1         0  unknown  no  "
      ]
     },
     "execution_count": 12,
     "metadata": {},
     "output_type": "execute_result"
    }
   ],
   "source": [
    "bank.head()"
   ]
  },
  {
   "cell_type": "code",
   "execution_count": 123,
   "metadata": {},
   "outputs": [],
   "source": [
    "X = bank.iloc[:,:-1]\n",
    "#for column in X:\n",
    "    #print (X[column].unique())\n",
    "y = bank['y']\n",
    "y = (y == 'yes')*1\n",
    "string_list = [column for column in X if X[column].dtypes =='object']"
   ]
  },
  {
   "cell_type": "code",
   "execution_count": 124,
   "metadata": {},
   "outputs": [],
   "source": [
    "from sklearn.preprocessing import OneHotEncoder, LabelEncoder\n",
    "\n",
    "enc = OneHotEncoder()\n",
    "le = LabelEncoder()\n",
    "\n",
    "for column in string_list:\n",
    "    le.fit(X[column])\n",
    "    vector=le.transform(X[column])\n",
    "    X[column] = vector"
   ]
  },
  {
   "cell_type": "code",
   "execution_count": 125,
   "metadata": {},
   "outputs": [],
   "source": [
    "X_strings= X[string_list].as_matrix()\n",
    "X_nonstr = X.drop(string_list, axis=1).as_matrix()\n",
    "enc.fit(X_strings)\n",
    "Z = np.concatenate((X_nonstr,enc.transform(X_strings).toarray()), axis=1).astype(int)\n"
   ]
  },
  {
   "cell_type": "code",
   "execution_count": 126,
   "metadata": {
    "collapsed": true
   },
   "outputs": [],
   "source": [
    "import numpy as np\n",
    "import matplotlib.pyplot as plt\n",
    "import time\n",
    "from matplotlib import cm\n",
    "from mpl_toolkits.mplot3d import Axes3D\n",
    "from sklearn.preprocessing import scale\n",
    "from sklearn.svm import SVC\n",
    "from sklearn.linear_model import LogisticRegression\n",
    "from sklearn.model_selection import train_test_split\n",
    "from sklearn.model_selection import KFold\n",
    "from sklearn.model_selection import LeaveOneOut\n",
    "from sklearn.metrics import precision_recall_curve, roc_curve\n",
    "from sklearn.ensemble import RandomForestClassifier\n",
    "\n",
    "%matplotlib inline"
   ]
  },
  {
   "cell_type": "markdown",
   "metadata": {},
   "source": [
    "__Exercise 2.1__ (30 pts) Predict y from X using kernel SVMs, random forests, and adaboost (see the sklearn.ensembles package).  Tune the random forest using the out-of-bag error.  Tune everything else using cross-validation, and assess the models using a separate test set with ROC, PR, confusion matrices.  Write a paragraph about the relative performances of the algorithms and any observations that you've made."
   ]
  },
  {
   "cell_type": "code",
   "execution_count": 166,
   "metadata": {},
   "outputs": [
    {
     "data": {
      "image/png": "[encoded data removed]",
      "text/plain": [
       "<matplotlib.figure.Figure at 0x10d555080>"
      ]
     },
     "metadata": {},
     "output_type": "display_data"
    },
    {
     "name": "stdout",
     "output_type": "stream",
     "text": [
      "Time spent 885.96 seconds\n"
     ]
    }
   ],
   "source": [
    "#10% holdout\n",
    "t0 = time.time()\n",
    "\n",
    "mesh = 11\n",
    "iterations = 3\n",
    "train_ratio = 0.1\n",
    "test_ratio = 0.1\n",
    "\n",
    "C_array = 10**np.linspace(-1,2,mesh)\n",
    "gamma_array = 10**np.linspace(-1,2,mesh)\n",
    "errors_hold = np.zeros((mesh,mesh))\n",
    "\n",
    "for i, C1 in np.ndenumerate(C_array):\n",
    "    for j, gamma1 in np.ndenumerate(gamma_array):\n",
    "        clf = SVC(C=C1, gamma=gamma1)\n",
    "        error = 0\n",
    "        for _ in range(iterations):\n",
    "            Z_train, Z_nottrain, y_train, y_nottrain = train_test_split(\n",
    "                Z, y, train_size=train_ratio)\n",
    "            Z_trash, Z_test, y_trash, y_test = train_test_split(\n",
    "                Z_nottrain, y_nottrain, test_size=test_ratio)\n",
    "            clf.fit(Z_train,y_train)\n",
    "            y_hat = clf.predict(Z_test)\n",
    "            error += np.mean((y_hat-y_test)**2)\n",
    "        errors_hold[i,j] = error/iterations\n",
    "\n",
    "fig = plt.figure(figsize=(6,6))\n",
    "ax = fig.add_subplot(111)\n",
    "ticks = [10**-1] + np.round(10**np.linspace(-1,2,6), decimals=2).tolist()\n",
    "ax.xaxis.set_ticklabels(ticks)\n",
    "ax.yaxis.set_ticklabels(ticks)\n",
    "ax.set_ylabel('Ridge Threshold')\n",
    "ax.set_xlabel('Kernel bandwidth')\n",
    "plt.title('10% holdout CV error')\n",
    "cax = ax.matshow(errors_hold)\n",
    "plt.colorbar(cax)\n",
    "plt.show()\n",
    "\n",
    "t1 = time.time()\n",
    "print('Time spent %.2f seconds' %(t1-t0))"
   ]
  },
  {
   "cell_type": "markdown",
   "metadata": {},
   "source": [
    "SVM tend to be rather slow and unstable. We can't really choose optimal parameter values because of that instability. Random forests seem to be more efficient in every regard."
   ]
  },
  {
   "cell_type": "code",
   "execution_count": 162,
   "metadata": {},
   "outputs": [
    {
     "name": "stdout",
     "output_type": "stream",
     "text": [
      "[ 0.      0.1025  0.104   0.1065  0.1075  0.1055  0.1065  0.1075  0.107\n",
      "  0.105   0.108   0.106   0.107   0.1055  0.1025  0.1065  0.107   0.105\n",
      "  0.106   0.1065  0.1055  0.1065  0.104   0.105   0.1075  0.1025  0.1045\n",
      "  0.105   0.1065  0.105 ]\n"
     ]
    },
    {
     "data": {
      "image/png": "[encoded data removed]",
      "text/plain": [
       "<matplotlib.figure.Figure at 0x1124667b8>"
      ]
     },
     "metadata": {},
     "output_type": "display_data"
    },
    {
     "name": "stdout",
     "output_type": "stream",
     "text": [
      "Time spent 295.59 seconds\n"
     ]
    }
   ],
   "source": [
    "t0 = time.time()\n",
    "\n",
    "n = Z.shape[0]\n",
    "k = 500\n",
    "bags_num = 300\n",
    "bag_mat = np.array([np.random.choice(n,k) for _ in range(bags_num)])\n",
    "\n",
    "test_size = 2000\n",
    "n_trees_range = 30\n",
    "\n",
    "test_indeces = np.random.choice(n, test_size)\n",
    "errors = np.zeros(n_trees_range)\n",
    "\n",
    "for n_trees in range(1,n_trees_range):\n",
    "    y_hat = np.zeros((n,2))\n",
    "    for bag in bag_mat:\n",
    "        rf = RandomForestClassifier(n_estimators = n_est)\n",
    "        Z_train = [Z[row] for row in bag]\n",
    "        y_train = [y[row] for row in bag]\n",
    "        rf.fit(Z_train,y_train)\n",
    "        p = rf.predict_proba(Z[[i for i in test_indeces if i not in bag]])[:,1]\n",
    "        y_hat[[i for i in test_indeces if i not in bag],0] += p\n",
    "        y_hat[[i for i in test_indeces if i not in bag],1] += 1\n",
    "    errors[n_trees] = sum(abs(y_hat[test_indeces,0]/y_hat[test_indeces,1] - y[test_indeces])>0.5)/test_size\n",
    "print(errors)\n",
    "\n",
    "fig = plt.figure(figsize=(6,6))\n",
    "ax = fig.add_subplot(111)\n",
    "ax.set_xlabel('Number of trees')\n",
    "ax.set_ylabel('OOB error')\n",
    "plt.title('OOB error')\n",
    "cax = ax.plot(errors[1:])\n",
    "plt.show()\n",
    "\n",
    "t1 = time.time()\n",
    "print('Time spent %.2f seconds' %(t1-t0))"
   ]
  },
  {
   "cell_type": "markdown",
   "metadata": {},
   "source": [
    "After experimenting with many parameters, I've determined that max depth tree has minimum error, and the number of trees within a forest doesn't affect OOB error too much (since we're averaging over all bags anyway)."
   ]
  },
  {
   "cell_type": "code",
   "execution_count": 179,
   "metadata": {},
   "outputs": [
    {
     "data": {
      "image/png": "[encoded data removed]",
      "text/plain": [
       "<matplotlib.figure.Figure at 0x110873400>"
      ]
     },
     "metadata": {},
     "output_type": "display_data"
    },
    {
     "name": "stdout",
     "output_type": "stream",
     "text": [
      "Time spent 76.79 seconds\n"
     ]
    }
   ],
   "source": [
    "from sklearn.ensemble import AdaBoostClassifier\n",
    "\n",
    "t0 = time.time()\n",
    "\n",
    "mesh = 11\n",
    "iterations = 5\n",
    "train_ratio = 0.1\n",
    "test_ratio = 0.1\n",
    "errors_adb = np.zeros((mesh))\n",
    "\n",
    "learning_rate_array = 10**np.linspace(-2,0,mesh)\n",
    "\n",
    "for i, learning_rate in np.ndenumerate(learning_rate_array):\n",
    "    rf = RandomForestClassifier(max_depth = 1)\n",
    "    adb = AdaBoostClassifier(base_estimator = rf, learning_rate = learning_rate)\n",
    "    error = 0\n",
    "    for _ in range(iterations):\n",
    "        Z_train, Z_nottrain, y_train, y_nottrain = train_test_split(\n",
    "            Z, y, train_size=train_ratio)\n",
    "        Z_trash, Z_test, y_trash, y_test = train_test_split(\n",
    "            Z_nottrain, y_nottrain, test_size=test_ratio)\n",
    "        adb.fit(Z_train,y_train)\n",
    "        y_hat = adb.predict(Z_test)\n",
    "        error += np.mean((y_hat-y_test)**2)\n",
    "    errors_adb[i] = error/iterations\n",
    "\n",
    "fig = plt.figure(figsize=(6,6))\n",
    "ax = fig.add_subplot(111)\n",
    "ticks = [10**-2] + np.round(10**np.linspace(-2,0,6), decimals=2).tolist()\n",
    "ax.xaxis.set_ticklabels(ticks)\n",
    "ax.set_xlabel('Learning rate')\n",
    "ax.set_ylabel('CV error')\n",
    "plt.title('Adaboost with 10% CV')\n",
    "cax = ax.plot(errors_adb)\n",
    "plt.show()\n",
    "\n",
    "t1 = time.time()\n",
    "print('Time spent %.2f seconds' %(t1-t0))"
   ]
  },
  {
   "cell_type": "markdown",
   "metadata": {},
   "source": [
    "Adaboost algorithm with stumps perform similar to random forests."
   ]
  },
  {
   "cell_type": "code",
   "execution_count": 206,
   "metadata": {},
   "outputs": [
    {
     "name": "stdout",
     "output_type": "stream",
     "text": [
      "Time spent for SVM is 14.55 seconds\n",
      "Time spent for random forest is 8.47 seconds\n",
      "Time spent for adaboost is 12.87 seconds\n"
     ]
    }
   ],
   "source": [
    "test_ratio = 0.1\n",
    "train_ratio = 0.1\n",
    "clf_iter = 2\n",
    "rf_iter = 100\n",
    "adb_iter = 10\n",
    "\n",
    "Z_nottest, Z_test, y_nottest, y_test = train_test_split(\n",
    "            Z, y, test_size=test_ratio)\n",
    "\n",
    "\n",
    "clf = SVC(C=5, probability = True)\n",
    "rf = RandomForestClassifier(n_estimators = 12)\n",
    "adb = AdaBoostClassifier(base_estimator = RandomForestClassifier(max_depth=1), \n",
    "                         learning_rate = 0.5)\n",
    "\n",
    "t0 = time.time()\n",
    "score_clf = np.zeros((len(y_test)))\n",
    "for _ in range(clf_iter):\n",
    "    Z_train, Z_trash, y_train, y_trash = train_test_split(\n",
    "            Z_nottest, y_nottest, train_size=train_ratio)\n",
    "    clf.fit(Z_train, y_train)\n",
    "    score_clf += clf.predict_proba(Z_test)[:,1]\n",
    "(fpr_clf,tpr_clf,thresholds) = roc_curve(y_test, score_clf)\n",
    "(prec_clf,rec_clf,thresholds) = precision_recall_curve(y_test, score_clf)\n",
    "t1 = time.time()\n",
    "print('Time spent for SVM is %.2f seconds' %(t1-t0))\n",
    "\n",
    "t0 = time.time()\n",
    "score_rf = np.zeros((len(y_test)))\n",
    "for _ in range(rf_iter):\n",
    "    Z_train, Z_trash, y_train, y_trash = train_test_split(\n",
    "            Z_nottest, y_nottest, train_size=train_ratio)\n",
    "    rf.fit(Z_train, y_train)\n",
    "    score_rf += rf.predict_proba(Z_test)[:,1]\n",
    "(fpr_rf,tpr_rf,thresholds) = roc_curve(y_test, score_rf)\n",
    "(prec_rf,rec_rf,thresholds) = precision_recall_curve(y_test, score_rf)\n",
    "t1 = time.time()\n",
    "print('Time spent for random forest is %.2f seconds' %(t1-t0))\n",
    "\n",
    "t0 = time.time()\n",
    "score_adb = np.zeros((len(y_test)))\n",
    "for _ in range(adb_iter):\n",
    "    Z_train, Z_trash, y_train, y_trash = train_test_split(\n",
    "            Z_nottest, y_nottest, train_size=train_ratio)\n",
    "    adb.fit(Z_train, y_train)\n",
    "    score_adb += adb.predict_proba(Z_test)[:,1]\n",
    "(fpr_adb,tpr_adb,thresholds) = roc_curve(y_test, score_adb)\n",
    "(prec_adb,rec_adb,thresholds) = precision_recall_curve(y_test, score_adb)\n",
    "t1 = time.time()\n",
    "print('Time spent for adaboost is %.2f seconds' %(t1-t0))"
   ]
  },
  {
   "cell_type": "markdown",
   "metadata": {},
   "source": [
    "I've chosen the number of iterations for each algorithm so that they each take about 10 seconds to finish. For SVM it's 2 iterations, for Random Forest it's 100, and for AdaBoost it's 10."
   ]
  },
  {
   "cell_type": "code",
   "execution_count": 205,
   "metadata": {},
   "outputs": [
    {
     "data": {
      "image/png": "[encoded data removed]",
      "text/plain": [
       "<matplotlib.figure.Figure at 0x112a4e8d0>"
      ]
     },
     "metadata": {},
     "output_type": "display_data"
    }
   ],
   "source": [
    "plt.figure(figsize = (15,7))\n",
    "\n",
    "plt.subplot(121)\n",
    "ft_clf, = plt.plot(fpr_clf, tpr_clf, 'r',label = 'Kernel SVM')\n",
    "ft_rf, = plt.plot(fpr_rf, tpr_rf, 'b',label = 'Random Forest')\n",
    "ft_adb, = plt.plot(fpr_adb, tpr_adb, 'g', label = 'AdaBoost Stumps')\n",
    "plt.legend(handles=[ft_clf, ft_rf, ft_adb])\n",
    "\n",
    "plt.subplot(122)\n",
    "pr_clf, = plt.plot(prec_clf, rec_clf, 'r',label = 'Kernel SVM')\n",
    "pr_rf, = plt.plot(prec_rf, rec_rf, 'b',label = 'Random Forest')\n",
    "pr_adb, = plt.plot(prec_adb, rec_adb, 'g', label = 'AdaBoost Stumps')\n",
    "plt.legend(handles=[pr_clf, pr_rf, pr_adb])\n",
    "\n",
    "plt.show()"
   ]
  },
  {
   "cell_type": "markdown",
   "metadata": {},
   "source": [
    "The shape of the curves tells us one of two things: either SVMs perform really bad for this dataset, or there is something wrong with the code.\n",
    "Assuming the former, we should only use Random Forests from now on.\n",
    "\n",
    "Max depth random forests perform slightly better then AdaBoost stumps, and they both show good performance. Complete separation of data points in Random Forests is more important then scaling outliers in AdaBoost for classification of this dataset."
   ]
  },
  {
   "cell_type": "markdown",
   "metadata": {},
   "source": [
    "__Exercise 2.2__ (Bonus: 20 pts) Using theano, code online stochastic gradient method for logistic regression with a single hidden layer with three units that uses the sigmoid activation function.  Compare the test error to the previous methods.\n",
    "\n",
    "You can use the code here: http://deeplearning.net/tutorial/mlp.html\n",
    "\n",
    "You may want to use the onehotencoder to encode the categorical variables in X."
   ]
  },
  {
   "cell_type": "code",
   "execution_count": 3,
   "metadata": {},
   "outputs": [],
   "source": [
    "import theano\n",
    "import theano.tensor as T"
   ]
  }
 ],
 "metadata": {
  "anaconda-cloud": {},
  "kernelspec": {
   "display_name": "Python 3",
   "language": "python",
   "name": "python3"
  },
  "language_info": {
   "codemirror_mode": {
    "name": "ipython",
    "version": 3
   },
   "file_extension": ".py",
   "mimetype": "text/x-python",
   "name": "python",
   "nbconvert_exporter": "python",
   "pygments_lexer": "ipython3",
   "version": "3.6.1"
  }
 },
 "nbformat": 4,
 "nbformat_minor": 2
}
