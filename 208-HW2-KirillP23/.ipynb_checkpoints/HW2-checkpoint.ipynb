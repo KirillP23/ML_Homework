{
 "cells": [
  {
   "cell_type": "markdown",
   "metadata": {},
   "source": [
    "# STA 208: Homework 2\n",
    "This is based on the material in Chapters 3, 4.4 of 'Elements of Statistical Learning' (ESL), in addition to lectures 4-6.  Chunzhe Zhang came up with the dataset and the analysis in the second section."
   ]
  },
  {
   "cell_type": "markdown",
   "metadata": {},
   "source": [
    "## Instructions\n",
    "\n",
    "We use a script that extracts your answers by looking for cells in between the cells containing the exercise statements (beginning with __Exercise X.X__).  So you \n",
    "\n",
    "- MUST add cells in between the exercise statements and add answers within them and\n",
    "- MUST NOT modify the existing cells, particularly not the problem statement\n",
    "\n",
    "To make markdown, please switch the cell type to markdown (from code) - you can hit 'm' when you are in command mode - and use the markdown language.  For a brief tutorial see: https://daringfireball.net/projects/markdown/syntax\n",
    "\n",
    "In the conceptual exercises you should provide an explanation, with math when necessary, for any answers.  When answering with math you should use basic LaTeX, as in \n",
    "$$E(Y|X=x) = \\int_{\\mathcal{Y}} f_{Y|X}(y|x) dy = \\int_{\\mathcal{Y}} \\frac{f_{Y,X}(y,x)}{f_{X}(x)} dy$$\n",
    "for displayed equations, and $R_{i,j} = 2^{-|i-j|}$ for inline equations.  (To see the contents of this cell in markdown, double click on it or hit Enter in escape mode.)  To see a list of latex math symbols see here: http://web.ift.uib.no/Teori/KURS/WRK/TeX/symALL.html"
   ]
  },
  {
   "cell_type": "markdown",
   "metadata": {},
   "source": [
    "# 1. Conceptual Exercises"
   ]
  },
  {
   "cell_type": "markdown",
   "metadata": {},
   "source": [
    "__Exercise 1.1.__ (5 pts) Ex. 3.29 in ESL "
   ]
  },
  {
   "cell_type": "markdown",
   "metadata": {},
   "source": [
    "For one predictor $X = (x_1, \\ldots, x_n)^T$ and ridge regression with parameter $\\lambda$, the coefficient is given by $$\\hat a = (X^T X + \\lambda I)^{-1} X^T y =  \\frac{\\sum x_i y_i}{\\sum x_i^2 + \\lambda}.$$\n",
    "\n",
    "Here, we assumed that outputs $y$ are already centered so that intercept is 0.\n",
    "\n",
    "\n",
    "If we include another copy $X^* = (x_1, \\ldots, x_n)^T$ into the input matrix, the coefficents $(a_1,a_2)$ are now calculated by\n",
    "$$\\begin{bmatrix}\n",
    "    a_1 \\\\\n",
    "    a_2\n",
    "\\end{bmatrix}\n",
    "=\n",
    "\\Big(\n",
    "\\begin{bmatrix}\n",
    "    \\sum x_i^2 & \\sum x_i^2 \\\\\n",
    "    \\sum x_i^2 & \\sum x_i^2\n",
    "\\end{bmatrix}\n",
    "+ \\lambda I\n",
    "\\Big)^{-1}\n",
    "\\begin{bmatrix}\n",
    "\\sum x_i y_i \\\\\n",
    "\\sum x_i y_i\n",
    "\\end{bmatrix}\n",
    "=\n",
    "\\frac{1}{\\lambda^2 + 2\\lambda \\sum x_i^2}\n",
    "\\begin{bmatrix}\n",
    "    \\lambda \\sum x_i y_i \\\\\n",
    "    \\lambda \\sum x_i y_i\n",
    "\\end{bmatrix}.$$\n",
    "\n",
    "And thus $$a_1 = a_2 = \\frac{\\sum x_i y_i}{2 \\sum x_i^2 + \\lambda}.$$\n",
    "\n",
    "Suppose now we have an arbitrary predictor set $X = (X_1, X_2, \\ldots X_p)$ with predictor $X_2 = X_1$, i.e. $X_2$ is a copy of $X_1$.\n",
    "\n",
    "Then the optimal coefficients are given by theunique solution of the convex optimization problem:\n",
    "$$\\hat\\beta = \\text{argmin}\\ (y- \\beta_1 X_1 - \\beta_2 X_2 - \\ldots)^T (y- \\beta_1 X_1 - \\beta_2 X_2 - \\ldots) + \\lambda (\\beta_1^2 + \\beta_2^2 + \\ldots).$$\n",
    "\n",
    "Denote the optimal coefficients $\\hat\\beta = (\\hat\\beta_1, \\hat\\beta_2,\\ldots)$. Suppose now for the sake of contradiction that $\\hat\\beta_1 \\neq \\hat\\beta_2$. Then, since $X_1 = X_2$, the vector $\\beta' = (\\hat\\beta_2, \\hat\\beta_1, \\ldots)$ would also be a solution of the minimization problem above. But the solution of the convex problem must be unique. Thus, we have a contradiction and $\\hat\\beta_1 = \\hat\\beta_2$."
   ]
  },
  {
   "cell_type": "markdown",
   "metadata": {},
   "source": [
    "__Exercise 1.2__ (5 pts) Ex. 3.30 in ESL"
   ]
  },
  {
   "cell_type": "markdown",
   "metadata": {},
   "source": [
    "Given predictors $X = (X_1, \\ldots, X_p)$ with $X_i = (x_i^1, \\ldots x_i^n)^T$ and the output $y = (y_1,\\ldots y_n)^T$, define the augmented versions of $y$ and $X_i$ as\n",
    "$$\n",
    "y^* = [ y_1\\ \\ldots\\ y_n\\ 0\\ 0\\ \\ldots\\ 0]^T, \\quad X^*_1 = [x_1^1\\ \\ldots\\ x_1^n\\ \\sqrt{\\lambda\\alpha}\\ 0\\ \\ldots \\ 0]^T, \\quad X^*_2 = [x_2^1\\ \\ldots\\ x_2^n\\ 0\\  \\sqrt{\\lambda\\alpha}\\ \\ldots \\ 0]^T, \\quad \\ldots \\quad X^*_p = [x_p^1\\ \\ldots\\ x_p^n\\ 0\\ 0\\ \\ldots \\ \\sqrt{\\lambda\\alpha}]^T,\n",
    "$$\n",
    "where $y^*, X_1^*,\\ldots X_p^* \\in \\mathbb{R}^{n+p}$.\n",
    "\n",
    "Then\n",
    "$$ \n",
    "\\text{argmin}\\ (y^* - \\beta_1 X^*_1 - \\beta_2 X^*_2 - \\ldots)^T (y^*- \\beta_1 X^*_1 - \\beta_2 X^*_2 - \\ldots) + \\lambda(1-\\alpha) ||\\beta||_1 = \\text{argmin}\\ (y - \\beta_1 X_1 - \\beta_2 X_2 - \\ldots)^T (y- \\beta_1 X_1 - \\beta_2 X_2 - \\ldots) + \\lambda\\alpha \\sum \\beta_i^2 + \\lambda(1-\\alpha) ||\\beta||_1.\n",
    "$$\n",
    "And thus the elastic-net optimization problem is equivalent to lasso with augmented versions of $y$ and $X_i$ and parameter $\\lambda (1-\\alpha)$."
   ]
  },
  {
   "cell_type": "markdown",
   "metadata": {},
   "source": [
    "__Exercise 1.3__ (5 pts) $Y \\in \\{0,1\\}$ follows an exponential family model with natural parameter $\\eta$ if\n",
    "$$P(Y=y) = \\exp\\left( y \\eta - \\psi(\\eta) \\right).$$\n",
    "Show that when $\\eta = x^\\top \\beta$ then $Y$ follows a logistic regression model."
   ]
  },
  {
   "cell_type": "markdown",
   "metadata": {},
   "source": [
    "$$\n",
    "\\log \\frac{\\mathbb{P}(Y=1\\ |\\ X)}{\\mathbb{P} (Y=0\\ |\\ X)} = \\log\\frac{\\exp(\\eta - \\psi(\\eta))}{\\exp(-\\psi(\\eta))} = \\eta = X^T \\beta.\n",
    "$$\n",
    "Thus, $Y$ follows a logistic regression model."
   ]
  },
  {
   "cell_type": "markdown",
   "metadata": {},
   "source": [
    "# 2. Data Analysis"
   ]
  },
  {
   "cell_type": "code",
   "execution_count": 1,
   "metadata": {
    "collapsed": true
   },
   "outputs": [],
   "source": [
    "import numpy as np\n",
    "import pandas as pd\n",
    "\n",
    "# dataset path\n",
    "data_dir = \".\""
   ]
  },
  {
   "cell_type": "markdown",
   "metadata": {},
   "source": [
    "Load the following medical dataset with 750 patients. The response variable is survival dates (Y), the predictors are 104 measurements measured at a specific time (numerical variables have been standardized)."
   ]
  },
  {
   "cell_type": "code",
   "execution_count": 2,
   "metadata": {
    "collapsed": true
   },
   "outputs": [],
   "source": [
    "sample_data = pd.read_csv(data_dir+\"/hw2.csv\", delimiter=',')"
   ]
  },
  {
   "cell_type": "code",
   "execution_count": 3,
   "metadata": {},
   "outputs": [
    {
     "data": {
      "text/html": [
       "<div>\n",
       "<table border=\"1\" class=\"dataframe\">\n",
       "  <thead>\n",
       "    <tr style=\"text-align: right;\">\n",
       "      <th></th>\n",
       "      <th>Y</th>\n",
       "      <th>V1</th>\n",
       "      <th>V2</th>\n",
       "      <th>V3</th>\n",
       "      <th>V4</th>\n",
       "      <th>V5</th>\n",
       "      <th>V6</th>\n",
       "      <th>V7</th>\n",
       "      <th>V8</th>\n",
       "      <th>V9</th>\n",
       "      <th>...</th>\n",
       "      <th>V95</th>\n",
       "      <th>V96</th>\n",
       "      <th>V97</th>\n",
       "      <th>V98</th>\n",
       "      <th>V99</th>\n",
       "      <th>V100</th>\n",
       "      <th>V101</th>\n",
       "      <th>V102</th>\n",
       "      <th>V103</th>\n",
       "      <th>V104</th>\n",
       "    </tr>\n",
       "  </thead>\n",
       "  <tbody>\n",
       "    <tr>\n",
       "      <th>0</th>\n",
       "      <td>1498</td>\n",
       "      <td>No</td>\n",
       "      <td>0.171838</td>\n",
       "      <td>-0.081764</td>\n",
       "      <td>-1.448868</td>\n",
       "      <td>-1.302547</td>\n",
       "      <td>-0.143061</td>\n",
       "      <td>-0.339784</td>\n",
       "      <td>-1.206475</td>\n",
       "      <td>0.444493</td>\n",
       "      <td>...</td>\n",
       "      <td>-1.379066</td>\n",
       "      <td>0.420436</td>\n",
       "      <td>-0.827446</td>\n",
       "      <td>0.318695</td>\n",
       "      <td>-0.787409</td>\n",
       "      <td>0.351406</td>\n",
       "      <td>-0.836107</td>\n",
       "      <td>0.015502</td>\n",
       "      <td>0.435444</td>\n",
       "      <td>-0.879906</td>\n",
       "    </tr>\n",
       "    <tr>\n",
       "      <th>1</th>\n",
       "      <td>334</td>\n",
       "      <td>Yes</td>\n",
       "      <td>-0.605767</td>\n",
       "      <td>-0.584360</td>\n",
       "      <td>-0.485169</td>\n",
       "      <td>-0.848111</td>\n",
       "      <td>-0.493546</td>\n",
       "      <td>-0.392332</td>\n",
       "      <td>-0.239788</td>\n",
       "      <td>0.421697</td>\n",
       "      <td>...</td>\n",
       "      <td>0.398840</td>\n",
       "      <td>-0.434789</td>\n",
       "      <td>-0.698862</td>\n",
       "      <td>1.387219</td>\n",
       "      <td>0.948456</td>\n",
       "      <td>0.191397</td>\n",
       "      <td>1.451699</td>\n",
       "      <td>-1.243616</td>\n",
       "      <td>-0.699072</td>\n",
       "      <td>1.751434</td>\n",
       "    </tr>\n",
       "    <tr>\n",
       "      <th>2</th>\n",
       "      <td>845</td>\n",
       "      <td>Yes</td>\n",
       "      <td>-0.266330</td>\n",
       "      <td>-0.126965</td>\n",
       "      <td>0.138401</td>\n",
       "      <td>0.262732</td>\n",
       "      <td>-0.202438</td>\n",
       "      <td>0.397194</td>\n",
       "      <td>0.137790</td>\n",
       "      <td>0.047847</td>\n",
       "      <td>...</td>\n",
       "      <td>-0.450999</td>\n",
       "      <td>-0.627830</td>\n",
       "      <td>0.677158</td>\n",
       "      <td>-0.140255</td>\n",
       "      <td>-0.798641</td>\n",
       "      <td>-0.972419</td>\n",
       "      <td>-0.852035</td>\n",
       "      <td>0.080914</td>\n",
       "      <td>-1.906252</td>\n",
       "      <td>0.705509</td>\n",
       "    </tr>\n",
       "    <tr>\n",
       "      <th>3</th>\n",
       "      <td>1484</td>\n",
       "      <td>No</td>\n",
       "      <td>0.113498</td>\n",
       "      <td>0.893293</td>\n",
       "      <td>-0.825298</td>\n",
       "      <td>-0.444168</td>\n",
       "      <td>0.756242</td>\n",
       "      <td>0.179122</td>\n",
       "      <td>-1.145078</td>\n",
       "      <td>-1.471261</td>\n",
       "      <td>...</td>\n",
       "      <td>0.316312</td>\n",
       "      <td>0.131010</td>\n",
       "      <td>0.878134</td>\n",
       "      <td>-0.306249</td>\n",
       "      <td>-1.263270</td>\n",
       "      <td>1.316120</td>\n",
       "      <td>-0.999717</td>\n",
       "      <td>1.104161</td>\n",
       "      <td>-0.234038</td>\n",
       "      <td>-0.083488</td>\n",
       "    </tr>\n",
       "    <tr>\n",
       "      <th>4</th>\n",
       "      <td>301</td>\n",
       "      <td>Yes</td>\n",
       "      <td>-0.620454</td>\n",
       "      <td>-0.608036</td>\n",
       "      <td>-0.088352</td>\n",
       "      <td>0.111253</td>\n",
       "      <td>-0.598898</td>\n",
       "      <td>-0.513191</td>\n",
       "      <td>0.753000</td>\n",
       "      <td>1.055418</td>\n",
       "      <td>...</td>\n",
       "      <td>0.364884</td>\n",
       "      <td>0.251667</td>\n",
       "      <td>0.373787</td>\n",
       "      <td>-0.354599</td>\n",
       "      <td>0.085019</td>\n",
       "      <td>1.207509</td>\n",
       "      <td>-0.762206</td>\n",
       "      <td>-0.067318</td>\n",
       "      <td>0.158247</td>\n",
       "      <td>0.592638</td>\n",
       "    </tr>\n",
       "  </tbody>\n",
       "</table>\n",
       "<p>5 rows × 105 columns</p>\n",
       "</div>"
      ],
      "text/plain": [
       "      Y   V1        V2        V3        V4        V5        V6        V7  \\\n",
       "0  1498   No  0.171838 -0.081764 -1.448868 -1.302547 -0.143061 -0.339784   \n",
       "1   334  Yes -0.605767 -0.584360 -0.485169 -0.848111 -0.493546 -0.392332   \n",
       "2   845  Yes -0.266330 -0.126965  0.138401  0.262732 -0.202438  0.397194   \n",
       "3  1484   No  0.113498  0.893293 -0.825298 -0.444168  0.756242  0.179122   \n",
       "4   301  Yes -0.620454 -0.608036 -0.088352  0.111253 -0.598898 -0.513191   \n",
       "\n",
       "         V8        V9    ...          V95       V96       V97       V98  \\\n",
       "0 -1.206475  0.444493    ...    -1.379066  0.420436 -0.827446  0.318695   \n",
       "1 -0.239788  0.421697    ...     0.398840 -0.434789 -0.698862  1.387219   \n",
       "2  0.137790  0.047847    ...    -0.450999 -0.627830  0.677158 -0.140255   \n",
       "3 -1.145078 -1.471261    ...     0.316312  0.131010  0.878134 -0.306249   \n",
       "4  0.753000  1.055418    ...     0.364884  0.251667  0.373787 -0.354599   \n",
       "\n",
       "        V99      V100      V101      V102      V103      V104  \n",
       "0 -0.787409  0.351406 -0.836107  0.015502  0.435444 -0.879906  \n",
       "1  0.948456  0.191397  1.451699 -1.243616 -0.699072  1.751434  \n",
       "2 -0.798641 -0.972419 -0.852035  0.080914 -1.906252  0.705509  \n",
       "3 -1.263270  1.316120 -0.999717  1.104161 -0.234038 -0.083488  \n",
       "4  0.085019  1.207509 -0.762206 -0.067318  0.158247  0.592638  \n",
       "\n",
       "[5 rows x 105 columns]"
      ]
     },
     "execution_count": 3,
     "metadata": {},
     "output_type": "execute_result"
    }
   ],
   "source": [
    "sample_data.head()"
   ]
  },
  {
   "cell_type": "code",
   "execution_count": 4,
   "metadata": {},
   "outputs": [
    {
     "data": {
      "text/html": [
       "<div>\n",
       "<table border=\"1\" class=\"dataframe\">\n",
       "  <thead>\n",
       "    <tr style=\"text-align: right;\">\n",
       "      <th></th>\n",
       "      <th>Y</th>\n",
       "      <th>V1</th>\n",
       "      <th>V2</th>\n",
       "      <th>V3</th>\n",
       "      <th>V4</th>\n",
       "      <th>V5</th>\n",
       "      <th>V6</th>\n",
       "      <th>V7</th>\n",
       "      <th>V8</th>\n",
       "      <th>V9</th>\n",
       "      <th>...</th>\n",
       "      <th>V95</th>\n",
       "      <th>V96</th>\n",
       "      <th>V97</th>\n",
       "      <th>V98</th>\n",
       "      <th>V99</th>\n",
       "      <th>V100</th>\n",
       "      <th>V101</th>\n",
       "      <th>V102</th>\n",
       "      <th>V103</th>\n",
       "      <th>V104</th>\n",
       "    </tr>\n",
       "  </thead>\n",
       "  <tbody>\n",
       "    <tr>\n",
       "      <th>0</th>\n",
       "      <td>1498</td>\n",
       "      <td>0</td>\n",
       "      <td>0.171838</td>\n",
       "      <td>-0.081764</td>\n",
       "      <td>-1.448868</td>\n",
       "      <td>-1.302547</td>\n",
       "      <td>-0.143061</td>\n",
       "      <td>-0.339784</td>\n",
       "      <td>-1.206475</td>\n",
       "      <td>0.444493</td>\n",
       "      <td>...</td>\n",
       "      <td>-1.379066</td>\n",
       "      <td>0.420436</td>\n",
       "      <td>-0.827446</td>\n",
       "      <td>0.318695</td>\n",
       "      <td>-0.787409</td>\n",
       "      <td>0.351406</td>\n",
       "      <td>-0.836107</td>\n",
       "      <td>0.015502</td>\n",
       "      <td>0.435444</td>\n",
       "      <td>-0.879906</td>\n",
       "    </tr>\n",
       "    <tr>\n",
       "      <th>1</th>\n",
       "      <td>334</td>\n",
       "      <td>1</td>\n",
       "      <td>-0.605767</td>\n",
       "      <td>-0.584360</td>\n",
       "      <td>-0.485169</td>\n",
       "      <td>-0.848111</td>\n",
       "      <td>-0.493546</td>\n",
       "      <td>-0.392332</td>\n",
       "      <td>-0.239788</td>\n",
       "      <td>0.421697</td>\n",
       "      <td>...</td>\n",
       "      <td>0.398840</td>\n",
       "      <td>-0.434789</td>\n",
       "      <td>-0.698862</td>\n",
       "      <td>1.387219</td>\n",
       "      <td>0.948456</td>\n",
       "      <td>0.191397</td>\n",
       "      <td>1.451699</td>\n",
       "      <td>-1.243616</td>\n",
       "      <td>-0.699072</td>\n",
       "      <td>1.751434</td>\n",
       "    </tr>\n",
       "    <tr>\n",
       "      <th>2</th>\n",
       "      <td>845</td>\n",
       "      <td>1</td>\n",
       "      <td>-0.266330</td>\n",
       "      <td>-0.126965</td>\n",
       "      <td>0.138401</td>\n",
       "      <td>0.262732</td>\n",
       "      <td>-0.202438</td>\n",
       "      <td>0.397194</td>\n",
       "      <td>0.137790</td>\n",
       "      <td>0.047847</td>\n",
       "      <td>...</td>\n",
       "      <td>-0.450999</td>\n",
       "      <td>-0.627830</td>\n",
       "      <td>0.677158</td>\n",
       "      <td>-0.140255</td>\n",
       "      <td>-0.798641</td>\n",
       "      <td>-0.972419</td>\n",
       "      <td>-0.852035</td>\n",
       "      <td>0.080914</td>\n",
       "      <td>-1.906252</td>\n",
       "      <td>0.705509</td>\n",
       "    </tr>\n",
       "    <tr>\n",
       "      <th>3</th>\n",
       "      <td>1484</td>\n",
       "      <td>0</td>\n",
       "      <td>0.113498</td>\n",
       "      <td>0.893293</td>\n",
       "      <td>-0.825298</td>\n",
       "      <td>-0.444168</td>\n",
       "      <td>0.756242</td>\n",
       "      <td>0.179122</td>\n",
       "      <td>-1.145078</td>\n",
       "      <td>-1.471261</td>\n",
       "      <td>...</td>\n",
       "      <td>0.316312</td>\n",
       "      <td>0.131010</td>\n",
       "      <td>0.878134</td>\n",
       "      <td>-0.306249</td>\n",
       "      <td>-1.263270</td>\n",
       "      <td>1.316120</td>\n",
       "      <td>-0.999717</td>\n",
       "      <td>1.104161</td>\n",
       "      <td>-0.234038</td>\n",
       "      <td>-0.083488</td>\n",
       "    </tr>\n",
       "    <tr>\n",
       "      <th>4</th>\n",
       "      <td>301</td>\n",
       "      <td>1</td>\n",
       "      <td>-0.620454</td>\n",
       "      <td>-0.608036</td>\n",
       "      <td>-0.088352</td>\n",
       "      <td>0.111253</td>\n",
       "      <td>-0.598898</td>\n",
       "      <td>-0.513191</td>\n",
       "      <td>0.753000</td>\n",
       "      <td>1.055418</td>\n",
       "      <td>...</td>\n",
       "      <td>0.364884</td>\n",
       "      <td>0.251667</td>\n",
       "      <td>0.373787</td>\n",
       "      <td>-0.354599</td>\n",
       "      <td>0.085019</td>\n",
       "      <td>1.207509</td>\n",
       "      <td>-0.762206</td>\n",
       "      <td>-0.067318</td>\n",
       "      <td>0.158247</td>\n",
       "      <td>0.592638</td>\n",
       "    </tr>\n",
       "  </tbody>\n",
       "</table>\n",
       "<p>5 rows × 105 columns</p>\n",
       "</div>"
      ],
      "text/plain": [
       "      Y  V1        V2        V3        V4        V5        V6        V7  \\\n",
       "0  1498   0  0.171838 -0.081764 -1.448868 -1.302547 -0.143061 -0.339784   \n",
       "1   334   1 -0.605767 -0.584360 -0.485169 -0.848111 -0.493546 -0.392332   \n",
       "2   845   1 -0.266330 -0.126965  0.138401  0.262732 -0.202438  0.397194   \n",
       "3  1484   0  0.113498  0.893293 -0.825298 -0.444168  0.756242  0.179122   \n",
       "4   301   1 -0.620454 -0.608036 -0.088352  0.111253 -0.598898 -0.513191   \n",
       "\n",
       "         V8        V9    ...          V95       V96       V97       V98  \\\n",
       "0 -1.206475  0.444493    ...    -1.379066  0.420436 -0.827446  0.318695   \n",
       "1 -0.239788  0.421697    ...     0.398840 -0.434789 -0.698862  1.387219   \n",
       "2  0.137790  0.047847    ...    -0.450999 -0.627830  0.677158 -0.140255   \n",
       "3 -1.145078 -1.471261    ...     0.316312  0.131010  0.878134 -0.306249   \n",
       "4  0.753000  1.055418    ...     0.364884  0.251667  0.373787 -0.354599   \n",
       "\n",
       "        V99      V100      V101      V102      V103      V104  \n",
       "0 -0.787409  0.351406 -0.836107  0.015502  0.435444 -0.879906  \n",
       "1  0.948456  0.191397  1.451699 -1.243616 -0.699072  1.751434  \n",
       "2 -0.798641 -0.972419 -0.852035  0.080914 -1.906252  0.705509  \n",
       "3 -1.263270  1.316120 -0.999717  1.104161 -0.234038 -0.083488  \n",
       "4  0.085019  1.207509 -0.762206 -0.067318  0.158247  0.592638  \n",
       "\n",
       "[5 rows x 105 columns]"
      ]
     },
     "execution_count": 4,
     "metadata": {},
     "output_type": "execute_result"
    }
   ],
   "source": [
    "sample_data.V1 = sample_data.V1.eq('Yes').mul(1)\n",
    "sample_data.head()"
   ]
  },
  {
   "cell_type": "markdown",
   "metadata": {},
   "source": [
    "The response variable is Y for 2.1-2.3 and Z for 2.4. "
   ]
  },
  {
   "cell_type": "code",
   "execution_count": 7,
   "metadata": {
    "collapsed": true
   },
   "outputs": [],
   "source": [
    "X = np.array(sample_data.iloc[:,range(2,104)])\n",
    "y = np.array(sample_data.iloc[:,0])\n",
    "z = np.array(sample_data.iloc[:,1])"
   ]
  },
  {
   "cell_type": "markdown",
   "metadata": {},
   "source": [
    "__Exercise 2.1__ (10 pts) Perform ridge regression on the method and cross-validate to find the best ridge parameter."
   ]
  },
  {
   "cell_type": "code",
   "execution_count": 52,
   "metadata": {
    "collapsed": true
   },
   "outputs": [],
   "source": [
    "import pandas as pd\n",
    "import numpy as np\n",
    "import matplotlib.pyplot as plt\n",
    "import seaborn as sns\n",
    "\n",
    "from sklearn.preprocessing import scale \n",
    "from sklearn.linear_model import LinearRegression, Ridge, RidgeCV, Lasso, LassoCV, lars_path\n",
    "from sklearn.decomposition import PCA\n",
    "from sklearn.metrics import mean_squared_error\n",
    "from sklearn.model_selection import LeaveOneOut\n",
    "\n",
    "%matplotlib inline\n",
    "plt.style.use('ggplot')\n",
    "datafolder = \"../data/\"\n"
   ]
  },
  {
   "cell_type": "code",
   "execution_count": null,
   "metadata": {
    "collapsed": true
   },
   "outputs": [],
   "source": [
    "def loo_risk(X,y,regmod):\n",
    "    \"\"\"\n",
    "    Construct the leave-one-out square error risk for a regression model\n",
    "    \n",
    "    Input: design matrix, X, response vector, y, a regression model, regmod\n",
    "    Output: scalar LOO risk\n",
    "    \"\"\"\n",
    "    loo = LeaveOneOut()\n",
    "    loo.get_n_splits(X)\n",
    "    loo_losses = []\n",
    "    for train_index, test_index in loo.split(X):\n",
    "        X_train, X_test = X[train_index], X[test_index]\n",
    "        y_train, y_test = y[train_index], y[test_index]\n",
    "        regmod.fit(X_train,y_train)\n",
    "        y_hat = regmod.predict(X_test)\n",
    "        loss = np.sum((y_hat - y_test)**2)\n",
    "        loo_losses.append(loss)\n",
    "    return np.mean(loo_losses)"
   ]
  },
  {
   "cell_type": "code",
   "execution_count": 116,
   "metadata": {
    "collapsed": true
   },
   "outputs": [],
   "source": [
    "alphas = 10**np.linspace(-4,0,50)\n",
    "LOOs = []\n",
    "for a in alphas:\n",
    "    ridge = Ridge(alpha=a, normalize=True)\n",
    "    LOOs.append(loo_risk(X,y,ridge))\n"
   ]
  },
  {
   "cell_type": "code",
   "execution_count": 119,
   "metadata": {},
   "outputs": [
    {
     "data": {
      "image/png": "[encoded data removed]",
      "text/plain": [
       "<matplotlib.figure.Figure at 0x10cf5ff98>"
      ]
     },
     "metadata": {},
     "output_type": "display_data"
    }
   ],
   "source": [
    "ax = plt.gca()\n",
    "ax.plot(alphas, LOOs)\n",
    "ax.set_xscale('log')\n",
    "#ax.set_xlim(ax.get_xlim()[::-1])  # reverse axis\n",
    "#plt.axis('tight')\n",
    "plt.xlabel('lambda')\n",
    "plt.ylabel('Risk')\n",
    "plt.title('LOO risk for ridge');\n",
    "plt.show()"
   ]
  },
  {
   "cell_type": "code",
   "execution_count": 123,
   "metadata": {},
   "outputs": [
    {
     "data": {
      "text/plain": [
       "365348.2645132094"
      ]
     },
     "execution_count": 123,
     "metadata": {},
     "output_type": "execute_result"
    }
   ],
   "source": [
    "np.min(LOOs)"
   ]
  },
  {
   "cell_type": "markdown",
   "metadata": {},
   "source": [
    "As we can see from the graph above, the optimal value of $\\lambda$ for ridge regression is $\\lambda=0$, i.e. it reduces to the regular linear regression."
   ]
  },
  {
   "cell_type": "markdown",
   "metadata": {},
   "source": [
    "__Exercise 2.2__ (10 pts) Plot the lasso and lars path for each of the coefficients.  All coefficients for a given method should be on the same plot, you should get 2 plots.  What are the major differences, if any?  Are there any 'leaving' events in the lasso path?"
   ]
  },
  {
   "cell_type": "code",
   "execution_count": 94,
   "metadata": {
    "collapsed": true
   },
   "outputs": [],
   "source": [
    "lasso_path = lars_path(X,y,method=\"lasso\")\n",
    "larrr_path = lars_path(X,y,method=\"lars\")"
   ]
  },
  {
   "cell_type": "code",
   "execution_count": 97,
   "metadata": {},
   "outputs": [
    {
     "data": {
      "image/png": "[encoded data removed]",
      "text/plain": [
       "<matplotlib.figure.Figure at 0x10d0d2eb8>"
      ]
     },
     "metadata": {},
     "output_type": "display_data"
    }
   ],
   "source": [
    "p = X.shape[1]\n",
    "\n",
    "f, axs = plt.subplots(1,2,figsize=(12,5))\n",
    "\n",
    "axs[0].set_xscale('log')\n",
    "axs[0].set_title('Lasso path for coefficients')\n",
    "axs[0].set_xlabel('Parameter value, log scale')\n",
    "axs[1].set_xscale('log')\n",
    "axs[1].set_title('Lars path for coefficients')\n",
    "axs[1].set_xlabel('Parameter value, log scale')\n",
    "\n",
    "for i in range(p):\n",
    "    axs[0].plot(lasso_path[0],lasso_path[2][i,:],'b', linewidth=2/(i+1))\n",
    "    axs[1].plot(larrr_path[0],larrr_path[2][i,:],'r', linewidth=2/(i+1))"
   ]
  },
  {
   "cell_type": "markdown",
   "metadata": {},
   "source": [
    "There aren't any major differences between two solutions. \n",
    "\n",
    "That might happen because there aren't any leaving events neither in lars nor in the lasso path."
   ]
  },
  {
   "cell_type": "markdown",
   "metadata": {},
   "source": [
    "__Exercise 2.3__ (10 pts) Cross-validate the Lasso and compare the results to the answer to 2.1."
   ]
  },
  {
   "cell_type": "code",
   "execution_count": 172,
   "metadata": {
    "collapsed": true,
    "scrolled": true
   },
   "outputs": [],
   "source": [
    "alphas_lass = 10**np.linspace(-3,0.5,50)\n",
    "LOOs_lass = []\n",
    "for a_lass in alphas_lass:\n",
    "    lasso = Lasso(alpha=a_lass, normalize=True)\n",
    "    loss_lass = loo_risk(X,y,lasso)\n",
    "    LOOs_lass.append(loss_lass)"
   ]
  },
  {
   "cell_type": "code",
   "execution_count": 173,
   "metadata": {},
   "outputs": [
    {
     "data": {
      "image/png": "[encoded data removed]",
      "text/plain": [
       "<matplotlib.figure.Figure at 0x106db87f0>"
      ]
     },
     "metadata": {},
     "output_type": "display_data"
    }
   ],
   "source": [
    "ax = plt.gca()\n",
    "ax.plot(alphas_lass, LOOs_lass)\n",
    "ax.set_xscale('log')\n",
    "#ax.set_xlim(ax.get_xlim()[::-1])  # reverse axis\n",
    "#plt.axis('tight')\n",
    "plt.xlabel('lambda')\n",
    "plt.ylabel('Risk')\n",
    "plt.title('LOO risk for lasso');\n",
    "plt.show()"
   ]
  },
  {
   "cell_type": "code",
   "execution_count": 174,
   "metadata": {},
   "outputs": [
    {
     "data": {
      "text/plain": [
       "343749.71423543058"
      ]
     },
     "execution_count": 174,
     "metadata": {},
     "output_type": "execute_result"
    }
   ],
   "source": [
    "np.min(LOOs_lass)"
   ]
  },
  {
   "cell_type": "code",
   "execution_count": 138,
   "metadata": {},
   "outputs": [
    {
     "name": "stdout",
     "output_type": "stream",
     "text": [
      "Optimal alpha is about 0.687\n",
      "Number of relevant predictors is 37\n"
     ]
    }
   ],
   "source": [
    "opt_alpha = alphas[np.argmin(LOOs_lass)]\n",
    "print('Optimal alpha is about %.3f' %opt_alpha)\n",
    "lasso = Lasso(alpha=opt_alpha, normalize=True)\n",
    "lasso.fit(X,y)\n",
    "opt_coef = lasso.coef_\n",
    "print('Number of relevant predictors is %s' %sum(np.abs(opt_coef) >= 1))"
   ]
  },
  {
   "cell_type": "markdown",
   "metadata": {},
   "source": [
    "Compared to ridge regression, the minimal LOO risk of lasso is 6% less (343749 vs. 365348).\n",
    "\n",
    "The optimal parameter value is about 0.687, and the set of relevent predictors contributing to the optimal lasso estimation consists of 37 values."
   ]
  },
  {
   "cell_type": "markdown",
   "metadata": {},
   "source": [
    "__Exercise 2.4__ (15 pts) Obtain the 'best' active set from 2.3, and create a new design matrix with only these variables.  Use this to predict the categorical variable $z$ with logistic regression. "
   ]
  },
  {
   "cell_type": "code",
   "execution_count": null,
   "metadata": {
    "collapsed": true
   },
   "outputs": [],
   "source": [
    "import sklearn.linear_model as skl_lm"
   ]
  },
  {
   "cell_type": "code",
   "execution_count": 157,
   "metadata": {},
   "outputs": [
    {
     "data": {
      "image/png": "[encoded data removed]",
      "text/plain": [
       "<matplotlib.figure.Figure at 0x10d079d68>"
      ]
     },
     "metadata": {},
     "output_type": "display_data"
    }
   ],
   "source": [
    "kappas = 10**np.linspace(-1,2,50)\n",
    "LOOs_log_reg = []\n",
    "log_reg = skl_lm.LogisticRegression(solver='newton-cg')\n",
    "\n",
    "for kappa in kappas:\n",
    "    Sbool = (np.abs(opt_coef) >= kappa)\n",
    "    X_new = X[:,Sbool]\n",
    "    LOOs_log_reg.append(loo_risk(X_new,z,log_reg))\n",
    "\n",
    "ax = plt.gca()\n",
    "ax.plot(kappas, LOOs_log_reg)\n",
    "ax.set_xscale('log')\n",
    "#ax.set_xlim(ax.get_xlim()[::-1])  # reverse axis\n",
    "#plt.axis('tight')\n",
    "plt.xlabel('Treshold for coefficients of relevent predictors')\n",
    "plt.ylabel('Risk')\n",
    "plt.title('LOO risk for logistic regression');\n",
    "plt.show()"
   ]
  },
  {
   "cell_type": "code",
   "execution_count": 177,
   "metadata": {},
   "outputs": [
    {
     "name": "stdout",
     "output_type": "stream",
     "text": [
      "Optimal coefficient treshold is 14\n",
      "The list of optimal predictors is [0, 2, 6, 7, 10, 14, 15, 22, 61, 63, 80, 81, 84]\n",
      " \n",
      "LOO risk for predicting z using optimal predictors is 0.067\n",
      "Compare this with the logistic regression LOO risk using all the predictors: 0.111\n",
      " \n",
      "Using optimal predictors, the LOO risk for prediction of y is 307899\n",
      "Compare this to the LOO risk using all the predictors: 365304\n"
     ]
    }
   ],
   "source": [
    "kappa_opt = kappas[np.argmin(LOOs_log_reg)]\n",
    "LOO_opt = np.min(LOOs_log_reg)\n",
    "print('Optimal coefficient treshold is %.0f' %kappa_opt)\n",
    "predictors_list = [i for i in range(p) if np.abs(opt_coef[i]) >= kappa_opt]\n",
    "print('The list of optimal predictors is ' + str(predictors_list))\n",
    "print(' ')\n",
    "print('LOO risk for predicting z using optimal predictors is %.3f' %LOO_opt)\n",
    "print('Compare this with the logistic regression LOO risk using all the predictors: %.3f' %loo_risk(X,z,log_reg))\n",
    "print(' ')\n",
    "lin=LinearRegression()\n",
    "Sbool_opt = (np.abs(opt_coef) >= kappa_opt)\n",
    "X_new_new = X[:,Sbool_opt]\n",
    "print(\"Using optimal predictors, the LOO risk for prediction of y is %.0f\" %loo_risk(X_new_new,y,lin))\n",
    "print('Compare this to the LOO risk using all the predictors: %.0f' %loo_risk(X,y,lin))"
   ]
  },
  {
   "cell_type": "markdown",
   "metadata": {},
   "source": [
    "As we can see above, predicting $y$ does help to predict $z$, and vice versa."
   ]
  }
 ],
 "metadata": {
  "anaconda-cloud": {},
  "kernelspec": {
   "display_name": "Python 3",
   "language": "python",
   "name": "python3"
  },
  "language_info": {
   "codemirror_mode": {
    "name": "ipython",
    "version": 3
   },
   "file_extension": ".py",
   "mimetype": "text/x-python",
   "name": "python",
   "nbconvert_exporter": "python",
   "pygments_lexer": "ipython3",
   "version": "3.6.1"
  }
 },
 "nbformat": 4,
 "nbformat_minor": 2
}
