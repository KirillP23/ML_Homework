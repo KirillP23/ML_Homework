{
 "cells": [
  {
   "cell_type": "markdown",
   "metadata": {},
   "source": [
    "# STA 208: Homework 1\n",
    "This is based on the material in Chapters 2, 3 of 'Elements of Statistical Learning' (ESL), in addition to lectures 1-4.  Chunzhe Zhang came up with the dataset and the analysis in the second section."
   ]
  },
  {
   "cell_type": "markdown",
   "metadata": {},
   "source": [
    "## Instructions\n",
    "\n",
    "We use a script that extracts your answers by looking for cells in between the cells containing the exercise statements (beginning with __Exercise X.X__).  So you \n",
    "\n",
    "- MUST add cells in between the exercise statements and add answers within them and\n",
    "- MUST NOT modify the existing cells, particularly not the problem statement\n",
    "\n",
    "To make markdown, please switch the cell type to markdown (from code) - you can hit 'm' when you are in command mode - and use the markdown language.  For a brief tutorial see: https://daringfireball.net/projects/markdown/syntax\n",
    "\n",
    "In the conceptual exercises you should provide an explanation, with math when necessary, for any answers.  When answering with math you should use basic LaTeX, as in \n",
    "$$E(Y|X=x) = \\int_{\\mathcal{Y}} f_{Y|X}(y|x) dy = \\int_{\\mathcal{Y}} \\frac{f_{Y,X}(y,x)}{f_{X}(x)} dy$$\n",
    "for displayed equations, and $R_{i,j} = 2^{-|i-j|}$ for inline equations.  (To see the contents of this cell in markdown, double click on it or hit Enter in escape mode.)  To see a list of latex math symbols see here: http://web.ift.uib.no/Teori/KURS/WRK/TeX/symALL.html"
   ]
  },
  {
   "cell_type": "markdown",
   "metadata": {},
   "source": [
    "# 1. Conceptual Exercises"
   ]
  },
  {
   "cell_type": "markdown",
   "metadata": {},
   "source": [
    "__Exercise 1.1.__ (5 pts) Recall that the Hamming loss for Binary classification ($y \\in \\{0,1\\}$) is \n",
    "$$l(y,\\hat y) = 1\\{y \\ne \\hat y\\} = (y - \\hat y)^2$$\n",
    "as long as $\\hat y \\in \\{0,1\\}$.\n",
    "This loss can be extended to multiclass classification where there are $K$ possible values that $y$ can take (for example 'dog','cat','squirrel' or 1-5 stars).  Explain how you can re-encode $y$ and $\\hat y$ to be a $K-1$ dimensional vector that generalizes binary classification, and rewrite the loss using vector operations.\n",
    "\n"
   ]
  },
  {
   "cell_type": "markdown",
   "metadata": {},
   "source": [
    "__Solution__\n",
    "\n",
    "Let the $K$ possible values be indexed by the set $\\{0,1,\\ldots, K-1 \\}$.\n",
    "\n",
    "Assign the corresponding $K-1$-dimentional vectors as follows:\n",
    "\n",
    "$v_1 = (1,0,\\ldots,0), \\quad v_2 = (0,1,\\ldots,0),\\quad \\ldots, \\quad v_{K-1} = (0,0,\\ldots,1)\\ $ and $\\ v_0 = \\alpha (1,1,\\ldots,1)$, \n",
    "\n",
    "where we choose $\\alpha$ so that $||v_1 - v_0 ||_2^2 = ||v_1 - v_2 ||_2^2 = 2$.\n",
    "\n",
    "One such value of $\\alpha$ is $-\\frac{1}{\\sqrt{K}+1}$.\n",
    "\n",
    "Thus, the distances between vectors are the same and the loss function can be generalized as\n",
    "\n",
    "$$ l(y_i,\\hat y) = ||v_i - \\hat y ||_2^2. $$"
   ]
  },
  {
   "cell_type": "markdown",
   "metadata": {},
   "source": [
    "__Exercise 1.2__ (5 pts) Ex. 2.7 in ESL"
   ]
  },
  {
   "cell_type": "markdown",
   "metadata": {},
   "source": [
    "__Solution__\n",
    "\n",
    "__Part a.__\n",
    "In linear regression $\\hat f(x_0) = \\tilde x_0 \\hat \\beta$, where $\\tilde x_0$ has 1 as 0-th component, and has the same components as $x_0$ in other positions.\n",
    "\n",
    "Using the datapoints $(X,Y)$, the LSE for $\\beta$ is $\\hat\\beta = \\big(\\tilde X^T \\tilde X\\big)^{-1} \\tilde X^T Y$, so $$\\hat f(x_0) = \\tilde x_0 \\big(\\tilde X^T \\tilde X\\big)^{-1} \\tilde X^T Y = \\sum l_i(x_0; X) y_i,$$ with $l_i(x_0; X)$ is equal to $i$-th component of vector $\\tilde x_0 \\big(\\tilde X^T \\tilde X\\big)^{-1} \\tilde X^T$. \n",
    "\n",
    "In kNN, the estimator is $\\hat f(x_0) = \\sum l'_i(x_0; X) y_i,$ where $l'_i(x_0; X) = l'_i(x_0; x_1,x_2,\\ldots,x_n) = \\frac{1}{k} \\mathbf{1}\\big(x_i \\text{ is among } k\\text{ nearest neighbours of } x_0\\big)$.\n",
    "\n",
    "__Part b.__\n",
    "$$E_{Y|X} \\big(f(x_0) - \\hat f(x_0)\\big)^2 = E_{Y|X} \\big(\\hat f(x_0) - E_{Y|X} \\hat f(x_0)\\big)^2 + E_{Y|X} \\big(f(x_0) - E_{Y|X} \\hat f(x_0)\\big)^2 = \\text{Variance}_{|X} + \\text{Bias}_{|X}.$$\n",
    "We can calculate those directly:\n",
    "$$\\text{Variance}_{|X} = E_{Y|X} \\big(\\hat f(x_0) - E_{Y|X} \\hat f(x_0)\\big)^2 = E_{|X} \\big(\\sum l_i(x_0;X) (f(x_i) + \\epsilon_i) - \\sum l_i(x_0;X) f(x_i)\\big)^2 = \\sum l_i^2(x_0;X) \\sigma^2,$$\n",
    "and\n",
    "$$\\text{Bias}_{|X} = E_{Y|X} \\big(E_{Y|X} \\hat f(x_0) - f(x_0)\\big)^2 = \\big(\\sum l_i(x_0;X) f(x_i) - f(x_0)\\big)^2.$$\n",
    "\n",
    "__Part c.__\n",
    "$$E_{X,Y} \\big(f(x_0) - \\hat f(x_0)\\big)^2 = E_X E_{Y|X} \\big(f(x_0) - \\hat f(x_0)\\big)^2 = E_X \\text{Variance}_{|X} + E_X \\text{Bias}_{|X} = \\text{Variance} + \\text{Bias}. $$\n",
    "Using results from the last part,\n",
    "$$\\text{Variance} = \\sigma^2 \\sum E_X l_i^2(x_0;X) = \\sigma^2 \\sum_i \\int l_i^2(x_0;\\bar X) h(\\bar X) d\\bar X, $$ where $h(\\bar X) = \\Pi_i \\ h(x_i)$. Also,\n",
    "$$\\text{Bias} = E_X \\big(\\sum l_i(x_0;X) f(x_i) - f(x_0)\\big)^2.$$\n",
    "\n",
    "__Part d.__\n",
    "From part b, in order to reduce variance, we need to reduce the $l_2$ norm of the coefficients $l_i (x_0;X)$ (for example, increase $k$ in kNN). That tipically means distributing weights between $y_i$'s more evenly. On the other hand, the bias would increase since we include more and more values $y_i$, which might be far away from the value of $y = f(x_0) + \\epsilon$, which we want to estimate."
   ]
  },
  {
   "cell_type": "markdown",
   "metadata": {},
   "source": [
    "__Exercise 1.3__ (5 pts, 1 for each part) Recall that the true risk for a prediction function, $f$, a loss function, $\\ell$, and a joint distribution for $Y,X$ is \n",
    "$$R(f) = E \\ell(y,f(x))$$\n",
    "For a training set $\\{x_i,y_x\\}_{i=1}^n$, the empirical risk is \n",
    "$$R_n = \\frac{1}{n} \\sum_{i=1}^n \\ell(y_i,f(x_i)).$$\n",
    "Let $y = x^\\top \\beta + \\epsilon$ be a linear model for $Y|X$, where $x,\\beta$ are $p$-dimensional such that $\\epsilon$ is Gaussian with mean 0 and variance $\\sigma^2$ (independent of X).\n",
    "Let $\\ell(y,\\hat y) = (y - \\hat y)^2$ be square error loss.\n",
    "\n",
    "1. Show that $f^\\star(x) = x^\\top \\beta$ gives the smallest true risk (also known as the Bayes rule).\n",
    "1. Why can't we use this prediction in practice?\n",
    "1. Recall that OLS is the empirical risk minimizer for linear functions.  Why does this tell us the following:\n",
    "$$ E R_n (\\hat f) \\le R(f^\\star)$$\n",
    "1. How do we know that $E R_n (\\hat f) \\le R(\\hat f)$? and use this to answer Ex. 2.9 in ESL.  \n",
    "1. What about this was specific to OLS and least squares loss (can this be generalized)?  What is the most general statement that you can think of that you can prove in this way?"
   ]
  },
  {
   "cell_type": "markdown",
   "metadata": {},
   "source": [
    "__Solution__\n",
    "\n",
    "1. We want to minimize the true loss function $R(f)$ over all prediction functions $f$. Notice that $$R(f) = E_X E_{Y|X} (x^T \\beta + \\epsilon - f(x))^2.$$ Minimizing the conditional expectation point-wise would give us the optimal value of $f(x)$. Since $$E(\\epsilon - a)^2 \\geq E(\\epsilon - E \\epsilon)^2 = E\\epsilon^2,$$ the minimum of $E_{Y|X} (x^T \\beta - f(x) + \\epsilon)^2$ is achieved when $x^T \\beta - f(x) = 0$, and thus $f(x) = x^T \\beta$.\n",
    "\n",
    "2. We can't use this prediction function since we don't know the true value of the parameter $\\beta$ from the noisy outputs $y_i$.\n",
    "\n",
    "3. Note that $$E_{Y|X}R_n(f^\\star) = \\frac{1}{n} \\sum E_{Y|X}(y_i - f^\\star (x_i))^2 = E\\epsilon^2 = \\sigma^2 = R(f^\\star).$$\n",
    "Since $\\hat f$ minimizes $E_{Y|X}R_n(f)$ pointwise, $E_{Y|X}R_n(\\hat f) \\leq E_{Y|X}R_n(f^\\star)$ and thus $$E R_n(\\hat f) = E_X E_{Y|X}R_n(\\hat f) \\leq E_X E_{Y|X}R_n(f^\\star) = R(f^\\star).$$\n",
    "\n",
    "4. Since $f^\\star$ minimizes $R$, we know that $R(f^\\star) \\leq R(\\hat f)$. Combining that with inequality from the last part, $E R_n (\\hat f) \\le R(\\hat f)$.\n",
    "For Ex. 2.9, let $X$ be the set of training data. Then conditionally with respect to $X$,\n",
    "$$E[R_{te} (\\hat\\beta)]= E \\frac{1}{M} \\sum (\\tilde y_i - \\hat\\beta \\tilde x_i)^2 = E_{y,x} (y - \\hat\\beta x)^2 = R(\\hat f),$$\n",
    "where $\\hat f = x^T \\hat \\beta$. Also, $E[R_{tr} (\\hat\\beta)] = E R_N (\\hat f)$.\n",
    "Since inequality $E R_n (\\hat f) \\le R(\\hat f)$ is true pointwise conditionally on $X$,\n",
    "the inconditional expectations $E[R_{tr} (\\hat\\beta)] \\le E[R_{te} (\\hat\\beta)]$.\n",
    "\n",
    "5. That approach works for any convex loss function $L(y-\\hat y)$ with a global minimum."
   ]
  },
  {
   "cell_type": "markdown",
   "metadata": {},
   "source": [
    "__Exercise 1.4__ (5 pts) Ex. 3.5 in ESL"
   ]
  },
  {
   "cell_type": "markdown",
   "metadata": {},
   "source": [
    "__Solution__\n",
    "\n",
    "Let $\\beta_0^c = \\beta_0 - \\sum_{j=1}^p \\bar x_j \\beta_j$ and $\\beta_i^c = \\beta_i$ for all $i \\neq 0$.\n",
    "\n",
    "Then the function $\\sum_i \\big( y_i - \\beta_0^c - \\sum_j (x_{ij} - \\bar x_j) \\beta_j^c \\big) -\\lambda \\sum_{j=1}^p \\beta_j^{c2}$ is transformed to $\\sum_i \\big( y_i - \\beta_0 - \\sum_j x_{ij} \\beta_j \\big) -\\lambda \\sum_{j=1}^p \\beta_j^{2}$.\n",
    "\n",
    "Thus, if $(\\hat \\beta_0, \\hat \\beta_1, \\ldots, \\hat \\beta_p)$ minimizes the second function, then $(\\hat \\beta_0^c, \\hat \\beta_1^c, \\ldots, \\hat \\beta_p^c)$ minimizes the first function.\n",
    "\n",
    "Since the transformation is invertible, the reverse is also true. Thus, two minimization problems are equavalent.\n",
    "\n",
    "For lasso, the same transformation $\\hat\\beta \\rightarrow \\hat\\beta^c$ and the same argument would work.\n",
    "\n",
    "The minimizer $\\hat\\beta^c$ would be more stable to random variations of $x_{ij}$, since the projection on the column space of centered columns $x_{ij} - \\bar x_j$ would be less sucseptible to error."
   ]
  },
  {
   "cell_type": "markdown",
   "metadata": {},
   "source": [
    "__Exercise 1.5__ (5 pts) Ex 3.9 in ESL"
   ]
  },
  {
   "cell_type": "markdown",
   "metadata": {},
   "source": [
    "__Solution__\n",
    "\n",
    "Let the column vectors of the orthogonal martix $Q$ be $z_1,\\ldots, z_p$. We have $p-q$ additional predictors given by columns $x_{p+1},\\ldots, x_{p-q}$. We want to find out which predictor to include if we want to make the residual sum of squares as small as possible.\n",
    "\n",
    "Suppose we choose predictor $x_k$ with $p+1 \\le k \\le p+q$. First we need to find the orthogonal component of $x_k$ to the space $\\langle z_1, \\ldots, z_p \\rangle$. That component is given by $z_k = x_k - \\sum_{j=1}^p (z_j, x_k)$. After that we normalize $z_k = \\frac{z_k}{||z_k||}$ and project the current residual $\\mathbf{r}$ onto the vector $z_k$. The new residual would be the orthogonal component of $\\mathbf{r}$ onto $z_k$, which is equal to $\\mathbf{r}_k = \\mathbf{r} - z_k (z_k, \\mathbf{r})$.\n",
    "\n",
    "Thus we choose the predictor $x_k$ so that $||\\mathbf{r}_k ||$ is minimum across the choices of $k=p+1,\\ldots,p+q$.\n",
    "We then append $z_k$ to the list $z_1, \\ldots, z_p$ and perform the same steps for the remaining predictors if needed. "
   ]
  },
  {
   "cell_type": "markdown",
   "metadata": {},
   "source": [
    "# 2. Data Analysis"
   ]
  },
  {
   "cell_type": "markdown",
   "metadata": {},
   "source": [
    "## Instructions\n",
    "\n",
    "You will be graded based on several criteria, and each is on a 5 point scale (5 is excellent - A - 1 is poor - C - 0 is not answered - D/F).  You should strive to 'impress us' if you want a 5.  This means excellent code, well explained conclusions, well annotated plots, correct answers, etc.\n",
    "\n",
    "We will be grading you on several criteria:\n",
    "\n",
    "- Conclusions: Conclusions should be consistent with the evidence provided, the conclusion should be well justified, the principles of machine learning that you have learned should be respected (such as overfitting and underfitting etc.)\n",
    "- Correctness of calculations: code should be correct and reflect the principles learned in this course, the logic should be sound, the methods should match the setting and context, you should try many applicable methods that you have learned as long as they apply. \n",
    "- Code, Figures, and Text: Code should be annotated and easy to follow, with docstrings on the functions; captions, titles,  for figures "
   ]
  },
  {
   "cell_type": "markdown",
   "metadata": {},
   "source": [
    "__Exercise 2__ You should run the following code cells to import the code and reduce the variable set.  Address the questions after the code."
   ]
  },
  {
   "cell_type": "code",
   "execution_count": 1,
   "metadata": {
    "collapsed": true
   },
   "outputs": [],
   "source": [
    "import numpy as np\n",
    "import pandas as pd\n",
    "import matplotlib.pyplot as plt\n",
    "from sklearn.model_selection import LeaveOneOut\n",
    "from sklearn import linear_model, neighbors\n",
    "%matplotlib inline\n",
    "plt.style.use('ggplot')\n",
    "\n",
    "# dataset path\n",
    "data_dir = \".\""
   ]
  },
  {
   "cell_type": "code",
   "execution_count": 2,
   "metadata": {},
   "outputs": [
    {
     "data": {
      "text/html": [
       "<div>\n",
       "<table border=\"1\" class=\"dataframe\">\n",
       "  <thead>\n",
       "    <tr style=\"text-align: right;\">\n",
       "      <th></th>\n",
       "      <th>quality</th>\n",
       "      <th>density</th>\n",
       "      <th>pH</th>\n",
       "      <th>alcohol</th>\n",
       "      <th>time</th>\n",
       "    </tr>\n",
       "  </thead>\n",
       "  <tbody>\n",
       "    <tr>\n",
       "      <th>0</th>\n",
       "      <td>90.0</td>\n",
       "      <td>0.99780</td>\n",
       "      <td>3.51</td>\n",
       "      <td>9.4</td>\n",
       "      <td>5</td>\n",
       "    </tr>\n",
       "    <tr>\n",
       "      <th>1</th>\n",
       "      <td>68.5</td>\n",
       "      <td>0.99620</td>\n",
       "      <td>3.26</td>\n",
       "      <td>10.0</td>\n",
       "      <td>4</td>\n",
       "    </tr>\n",
       "    <tr>\n",
       "      <th>2</th>\n",
       "      <td>110.0</td>\n",
       "      <td>0.99630</td>\n",
       "      <td>3.25</td>\n",
       "      <td>9.2</td>\n",
       "      <td>5</td>\n",
       "    </tr>\n",
       "    <tr>\n",
       "      <th>3</th>\n",
       "      <td>71.5</td>\n",
       "      <td>0.99551</td>\n",
       "      <td>3.56</td>\n",
       "      <td>10.8</td>\n",
       "      <td>5</td>\n",
       "    </tr>\n",
       "    <tr>\n",
       "      <th>4</th>\n",
       "      <td>110.0</td>\n",
       "      <td>0.99600</td>\n",
       "      <td>3.28</td>\n",
       "      <td>9.8</td>\n",
       "      <td>6</td>\n",
       "    </tr>\n",
       "  </tbody>\n",
       "</table>\n",
       "</div>"
      ],
      "text/plain": [
       "   quality  density    pH  alcohol  time\n",
       "0     90.0  0.99780  3.51      9.4     5\n",
       "1     68.5  0.99620  3.26     10.0     4\n",
       "2    110.0  0.99630  3.25      9.2     5\n",
       "3     71.5  0.99551  3.56     10.8     5\n",
       "4    110.0  0.99600  3.28      9.8     6"
      ]
     },
     "execution_count": 2,
     "metadata": {},
     "output_type": "execute_result"
    }
   ],
   "source": [
    "sample_data = pd.read_csv(data_dir+\"/hw1.csv\", delimiter=',')\n",
    "sample_data.head()"
   ]
  },
  {
   "cell_type": "markdown",
   "metadata": {},
   "source": [
    "The response variable is quality. "
   ]
  },
  {
   "cell_type": "code",
   "execution_count": 3,
   "metadata": {
    "collapsed": true
   },
   "outputs": [],
   "source": [
    "X = np.array(sample_data.iloc[:,range(1,5)])\n",
    "y = np.array(sample_data.iloc[:,0])"
   ]
  },
  {
   "cell_type": "code",
   "execution_count": 5,
   "metadata": {
    "collapsed": true
   },
   "outputs": [],
   "source": [
    "def loo_risk(X,y,regmod):\n",
    "    \"\"\"\n",
    "    Construct the leave-one-out square error risk for a regression model\n",
    "    \n",
    "    Input: design matrix, X, response vector, y, a regression model, regmod\n",
    "    Output: scalar LOO risk\n",
    "    \"\"\"\n",
    "    loo = LeaveOneOut()\n",
    "    loo_losses = []\n",
    "    for train_index, test_index in loo.split(X):\n",
    "        X_train, X_test = X[train_index], X[test_index]\n",
    "        y_train, y_test = y[train_index], y[test_index]\n",
    "        regmod.fit(X_train,y_train)\n",
    "        y_hat = regmod.predict(X_test)\n",
    "        loss = np.sum((y_hat - y_test)**2)\n",
    "        loo_losses.append(loss)\n",
    "    return np.mean(loo_losses)\n",
    "\n",
    "def emp_risk(X,y,regmod):\n",
    "    \"\"\"\n",
    "    Return the empirical risk for square error loss\n",
    "    \n",
    "    Input: design matrix, X, response vector, y, a regression model, regmod\n",
    "    Output: scalar empirical risk\n",
    "    \"\"\"\n",
    "    regmod.fit(X,y)\n",
    "    y_hat = regmod.predict(X)\n",
    "    return np.mean((y_hat - y)**2)"
   ]
  },
  {
   "cell_type": "markdown",
   "metadata": {},
   "source": [
    "__Exercise 2.1__ (5 pts) Compare the leave-one-out risk with the empirical risk for linear regression, on this dataset."
   ]
  },
  {
   "cell_type": "code",
   "execution_count": 8,
   "metadata": {},
   "outputs": [
    {
     "name": "stdout",
     "output_type": "stream",
     "text": [
      "LOO risk for linear regression is 243.83\n",
      "Emperical risk for linear regression is 242.25\n"
     ]
    }
   ],
   "source": [
    "lin = linear_model.LinearRegression()\n",
    "print('LOO risk for linear regression is %.2f' %loo_risk(X,y, lin))\n",
    "print('Emperical risk for linear regression is %.2f' %emp_risk(X,y,lin))\n"
   ]
  },
  {
   "cell_type": "markdown",
   "metadata": {},
   "source": [
    "As we can see, the emperical risk is smaller then LOO risk. This makes sence since Emperical risk uses all the training data points to fit the linear function, and tests on the same training data, while the LOO risk is tested on one data point which wasn't used for fitting."
   ]
  },
  {
   "cell_type": "markdown",
   "metadata": {},
   "source": [
    "__Exercise 2.2__ (10 pts) Perform kNN regression and compare the leave-one-out risk with the empirical risk for k from 1 to 50.  Remark on the tradeoff between bias and variance for this dataset and compare against linear regression."
   ]
  },
  {
   "cell_type": "code",
   "execution_count": 9,
   "metadata": {},
   "outputs": [
    {
     "data": {
      "image/png": "[encoded data removed]",
      "text/plain": [
       "<matplotlib.figure.Figure at 0x110a629e8>"
      ]
     },
     "metadata": {},
     "output_type": "display_data"
    }
   ],
   "source": [
    "LOOs = []\n",
    "MSEs = []\n",
    "\n",
    "Ks = range(1,51)\n",
    "\n",
    "for k in Ks:\n",
    "    knn = neighbors.KNeighborsRegressor(n_neighbors=k)\n",
    "    LOOs.append(loo_risk(X,y,knn))\n",
    "    MSEs.append(emp_risk(X,y,knn))\n",
    "\n",
    "plt.plot(Ks,LOOs,'r',label=\"LOO risk\")\n",
    "plt.title(\"Risks for kNN Regression\")\n",
    "plt.plot(Ks,MSEs,'b',label=\"Emp risk\")\n",
    "plt.legend()\n",
    "_ = plt.xlabel('k')\n"
   ]
  },
  {
   "cell_type": "code",
   "execution_count": 12,
   "metadata": {},
   "outputs": [
    {
     "name": "stdout",
     "output_type": "stream",
     "text": [
      "LOO risk for kNN with k=50 is 245.26\n",
      "Minimal LOO risk for kNN is 233.19 for k=16\n",
      "Emp risk for kNN with k=50 is 235.09\n"
     ]
    }
   ],
   "source": [
    "print(\"LOO risk for kNN with k=50 is %.2f\" %LOOs[-1])\n",
    "print(\"Minimal LOO risk for kNN is %.2f for k=%s\" %(min(LOOs),np.argmin(LOOs)))\n",
    "print(\"Emp risk for kNN with k=50 is %.2f\" %MSEs[-1])"
   ]
  },
  {
   "cell_type": "markdown",
   "metadata": {},
   "source": [
    "__Remarks__\n",
    "\n",
    "Emperical risk represents the bias of our model, and the difference between LOO and Emp risks represents the variance. \n",
    "\n",
    "As we can see from the graph, for small values of $k = 1,2,3$, the bias is small due to the small expectaion of error on the training set. On the other hand, the variance is big due to the small amount of training data involved in the prediction.\n",
    "\n",
    "For lager $k > 20$, the variance is getting lower while the bias is getting bigger.\n",
    "\n",
    "Note that the optimal $k$ in terms of LOO risk is 16, so for that value of $k$ we have a balance of bias and variance.\n",
    "\n",
    "Compared to the linear regression, which is very biased and has low variance, kNN performes worse for very small or very big $k$, but shows an improvement for optimal value $k=16$: \n",
    "\n",
    "LOO risk is 243 for linear regression and 233 for kNN with $k=16$."
   ]
  },
  {
   "cell_type": "markdown",
   "metadata": {},
   "source": [
    "__Exercise 2.3__ (10 pts) Implement forward stepwise regression (ESL section 3.3.2) for the linear model and compare the LOO risk for each stage.  Recall that at each step forward stepwise regression will select a new variable that most improves the empirical risk and include that in the model (starting with the intercept)."
   ]
  },
  {
   "cell_type": "code",
   "execution_count": 38,
   "metadata": {},
   "outputs": [
    {
     "data": {
      "image/png": "[encoded data removed]",
      "text/plain": [
       "<matplotlib.figure.Figure at 0x110fef0f0>"
      ]
     },
     "metadata": {},
     "output_type": "display_data"
    }
   ],
   "source": [
    "loc_ind = []\n",
    "risks = []\n",
    "\n",
    "lin = linear_model.LinearRegression()\n",
    "\n",
    "for _ in range(4):\n",
    "    min_risk = float('inf')\n",
    "    leftover_ind = [i for i in range(4) if i not in loc_ind]\n",
    "    for index in leftover_ind:\n",
    "        curr_risk = loo_risk(X[:,loc_ind + [index]], y, lin)\n",
    "        if curr_risk < min_risk:\n",
    "            min_risk = curr_risk\n",
    "            min_index = index\n",
    "    risks.append(min_risk)\n",
    "    loc_ind.append(min_index)\n",
    "    print \n",
    "    \n",
    "plt.plot(risks)\n",
    "_ = plt.xlabel('Stages of forward stepwise regression')"
   ]
  },
  {
   "cell_type": "code",
   "execution_count": 48,
   "metadata": {},
   "outputs": [
    {
     "name": "stdout",
     "output_type": "stream",
     "text": [
      "After stage 1, LOO risk is 258.84, with indices [3] used\n",
      "After stage 2, LOO risk is 245.59, with indices [3, 1] used\n",
      "After stage 3, LOO risk is 243.51, with indices [3, 1, 2] used\n",
      "After stage 4, LOO risk is 243.83, with indices [3, 1, 2, 0] used\n"
     ]
    }
   ],
   "source": [
    "for i in range(4):\n",
    "    print(\"After stage %s, LOO risk is %.2f, with indices \" %(i+1,risks[i]) + str(loc_ind[:i+1]) + \" used\")\n"
   ]
  },
  {
   "cell_type": "markdown",
   "metadata": {},
   "source": [
    "__Remarks__\n",
    "\n",
    "Notice that the LOO risk on the last stage is bigger then the LOO risk on the 3rd stage. That means that including the first column of $X$ (corresponding to the density value in our dataset) makes prediction worse, and thus we can conclude that density value does not affect the quality value.\n",
    "\n",
    "On the other hand, considering only the last column of $X$ (corresponding to the time value) is enough to make the LOO risk close to the optimal (258.84 for column 3 vs 243.51 for optimal combination of predictors). Thus the time value is closely related to the quality value.\n",
    "\n",
    "Considering that our dataset is probably the dataset of different wines, our conclusions agree with common sense that time affects the quality of wine the most (out of density, pH, alcohol and time variables)."
   ]
  }
 ],
 "metadata": {
  "anaconda-cloud": {},
  "kernelspec": {
   "display_name": "Python 3",
   "language": "python",
   "name": "python3"
  },
  "language_info": {
   "codemirror_mode": {
    "name": "ipython",
    "version": 3
   },
   "file_extension": ".py",
   "mimetype": "text/x-python",
   "name": "python",
   "nbconvert_exporter": "python",
   "pygments_lexer": "ipython3",
   "version": "3.6.1"
  }
 },
 "nbformat": 4,
 "nbformat_minor": 2
}
